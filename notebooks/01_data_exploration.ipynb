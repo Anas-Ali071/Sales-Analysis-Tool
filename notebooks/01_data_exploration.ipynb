{
 "cells": [
  {
   "cell_type": "markdown",
   "metadata": {},
   "source": [
    "# Data Loading and Initial Exploration\n",
    "\n",
    "This notebook covers loading data from multiple file formats (CSV, Excel), performing initial data exploration including shape, info, and descriptive statistics, and documenting data quality issues."
   ]
  },
  {
   "cell_type": "code",
   "execution_count": null,
   "metadata": {},
   "outputs": [],
   "source": [
    "# Import necessary libraries\n",
    "import pandas as pd\n",
    "\n",
    "# Load data\n",
    "sales_data = None\n",
    "try:\n",
    "    sales_csv = pd.read_csv('../data/raw/Global_Superstore2.csv', encoding='latin1')  # Adjust path and filename as needed\n",
    "    print('CSV data loaded successfully')\n",
    "    sales_data = sales_csv\n",
    "except Exception as e:\n",
    "    print(f'Error loading CSV data: {e}')\n",
    "\n",
    "try:\n",
    "    sales_excel = pd.read_excel('../data/raw/Global_Superstore2.xlsx')  # Adjust path and filename as needed\n",
    "    print('Excel data loaded successfully')\n",
    "    if sales_data is None:\n",
    "        sales_data = sales_excel\n",
    "except Exception as e:\n",
    "    print(f'Error loading Excel data: {e}')\n",
    "\n",
    "if sales_data is not None:\n",
    "    # Initial exploration\n",
    "    print('Data Shape:', sales_data.shape)\n",
    "    print('Data Info:')\n",
    "    print(sales_data.info())\n",
    "    print('Data Description:')\n",
    "    print(sales_data.describe(include='all'))\n",
    "    \n",
    "    # Document data quality issues\n",
    "    missing_values = sales_data.isnull().sum()\n",
    "    print('Missing values per column:')\n",
    "    print(missing_values)\n",
    "else:\n",
    "    print('No data loaded successfully.')\n"
   ]
  }
 ],
 "metadata": {
  "kernelspec": {
   "display_name": "Python 3",
   "language": "python",
   "name": "python3"
  },
  "language_info": {
   "name": "python",
   "version": "3.8"
  }
 },
 "nbformat": 4,
 "nbformat_minor": 5
}
