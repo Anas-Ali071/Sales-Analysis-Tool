{
 "cells": [
  {
   "cell_type": "markdown",
   "id": "6ea13fcc",
   "metadata": {},
   "source": [
    "# Data Cleaning\n",
    "\n",
    "This notebook covers handling missing values, removing duplicates and outliers, and standardizing data types."
   ]
  },
  {
   "cell_type": "code",
   "execution_count": 1,
   "id": "e99ecdc2",
   "metadata": {
    "execution": {
     "iopub.execute_input": "2025-09-09T04:41:33.177261Z",
     "iopub.status.busy": "2025-09-09T04:41:33.176265Z",
     "iopub.status.idle": "2025-09-09T04:41:45.985850Z",
     "shell.execute_reply": "2025-09-09T04:41:45.973865Z"
    }
   },
   "outputs": [
    {
     "name": "stdout",
     "output_type": "stream",
     "text": [
      "Raw data loaded successfully\n"
     ]
    },
    {
     "name": "stderr",
     "output_type": "stream",
     "text": [
      "C:\\Users\\onlyw\\AppData\\Local\\Temp\\ipykernel_16708\\953220039.py:17: FutureWarning: A value is trying to be set on a copy of a DataFrame or Series through chained assignment using an inplace method.\n",
      "The behavior will change in pandas 3.0. This inplace method will never work because the intermediate object on which we are setting values always behaves as a copy.\n",
      "\n",
      "For example, when doing 'df[col].method(value, inplace=True)', try using 'df.method({col: value}, inplace=True)' or df[col] = df[col].method(value) instead, to perform the operation inplace on the original object.\n",
      "\n",
      "\n",
      "  sales_data[col].fillna(median_val, inplace=True)\n",
      "C:\\Users\\onlyw\\AppData\\Local\\Temp\\ipykernel_16708\\953220039.py:17: FutureWarning: A value is trying to be set on a copy of a DataFrame or Series through chained assignment using an inplace method.\n",
      "The behavior will change in pandas 3.0. This inplace method will never work because the intermediate object on which we are setting values always behaves as a copy.\n",
      "\n",
      "For example, when doing 'df[col].method(value, inplace=True)', try using 'df.method({col: value}, inplace=True)' or df[col] = df[col].method(value) instead, to perform the operation inplace on the original object.\n",
      "\n",
      "\n",
      "  sales_data[col].fillna(median_val, inplace=True)\n",
      "C:\\Users\\onlyw\\AppData\\Local\\Temp\\ipykernel_16708\\953220039.py:17: FutureWarning: A value is trying to be set on a copy of a DataFrame or Series through chained assignment using an inplace method.\n",
      "The behavior will change in pandas 3.0. This inplace method will never work because the intermediate object on which we are setting values always behaves as a copy.\n",
      "\n",
      "For example, when doing 'df[col].method(value, inplace=True)', try using 'df.method({col: value}, inplace=True)' or df[col] = df[col].method(value) instead, to perform the operation inplace on the original object.\n",
      "\n",
      "\n",
      "  sales_data[col].fillna(median_val, inplace=True)\n",
      "C:\\Users\\onlyw\\AppData\\Local\\Temp\\ipykernel_16708\\953220039.py:17: FutureWarning: A value is trying to be set on a copy of a DataFrame or Series through chained assignment using an inplace method.\n",
      "The behavior will change in pandas 3.0. This inplace method will never work because the intermediate object on which we are setting values always behaves as a copy.\n",
      "\n",
      "For example, when doing 'df[col].method(value, inplace=True)', try using 'df.method({col: value}, inplace=True)' or df[col] = df[col].method(value) instead, to perform the operation inplace on the original object.\n",
      "\n",
      "\n",
      "  sales_data[col].fillna(median_val, inplace=True)\n",
      "C:\\Users\\onlyw\\AppData\\Local\\Temp\\ipykernel_16708\\953220039.py:17: FutureWarning: A value is trying to be set on a copy of a DataFrame or Series through chained assignment using an inplace method.\n",
      "The behavior will change in pandas 3.0. This inplace method will never work because the intermediate object on which we are setting values always behaves as a copy.\n",
      "\n",
      "For example, when doing 'df[col].method(value, inplace=True)', try using 'df.method({col: value}, inplace=True)' or df[col] = df[col].method(value) instead, to perform the operation inplace on the original object.\n",
      "\n",
      "\n",
      "  sales_data[col].fillna(median_val, inplace=True)\n",
      "C:\\Users\\onlyw\\AppData\\Local\\Temp\\ipykernel_16708\\953220039.py:17: FutureWarning: A value is trying to be set on a copy of a DataFrame or Series through chained assignment using an inplace method.\n",
      "The behavior will change in pandas 3.0. This inplace method will never work because the intermediate object on which we are setting values always behaves as a copy.\n",
      "\n",
      "For example, when doing 'df[col].method(value, inplace=True)', try using 'df.method({col: value}, inplace=True)' or df[col] = df[col].method(value) instead, to perform the operation inplace on the original object.\n",
      "\n",
      "\n",
      "  sales_data[col].fillna(median_val, inplace=True)\n",
      "C:\\Users\\onlyw\\AppData\\Local\\Temp\\ipykernel_16708\\953220039.py:17: FutureWarning: A value is trying to be set on a copy of a DataFrame or Series through chained assignment using an inplace method.\n",
      "The behavior will change in pandas 3.0. This inplace method will never work because the intermediate object on which we are setting values always behaves as a copy.\n",
      "\n",
      "For example, when doing 'df[col].method(value, inplace=True)', try using 'df.method({col: value}, inplace=True)' or df[col] = df[col].method(value) instead, to perform the operation inplace on the original object.\n",
      "\n",
      "\n",
      "  sales_data[col].fillna(median_val, inplace=True)\n"
     ]
    },
    {
     "name": "stderr",
     "output_type": "stream",
     "text": [
      "C:\\Users\\onlyw\\AppData\\Local\\Temp\\ipykernel_16708\\953220039.py:33: UserWarning: Parsing dates in %d-%m-%Y format when dayfirst=False (the default) was specified. Pass `dayfirst=True` or specify a format to silence this warning.\n",
      "  sales_data[col] = pd.to_datetime(sales_data[col], errors='coerce')\n"
     ]
    },
    {
     "name": "stdout",
     "output_type": "stream",
     "text": [
      "Cleaned data saved successfully\n"
     ]
    }
   ],
   "source": [
    "# Import necessary libraries\n",
    "import pandas as pd\n",
    "import numpy as np\n",
    "\n",
    "# Load raw data\n",
    "try:\n",
    "    sales_data = pd.read_csv('../data/raw/Global_Superstore2.csv', encoding='latin1')  # Adjust path and filename as needed\n",
    "    print('Raw data loaded successfully')\n",
    "except Exception as e:\n",
    "    print(f'Error loading raw data: {e}')\n",
    "\n",
    "# Handle missing values\n",
    "# Example: Fill missing numerical values with median\n",
    "num_cols = sales_data.select_dtypes(include=[np.number]).columns\n",
    "for col in num_cols:\n",
    "    median_val = sales_data[col].median()\n",
    "    sales_data[col].fillna(median_val, inplace=True)\n",
    "\n",
    "# Remove duplicates\n",
    "sales_data.drop_duplicates(inplace=True)\n",
    "\n",
    "# Remove outliers using IQR method for numerical columns\n",
    "Q1 = sales_data[num_cols].quantile(0.25)\n",
    "Q3 = sales_data[num_cols].quantile(0.75)\n",
    "IQR = Q3 - Q1\n",
    "filter = ~((sales_data[num_cols] < (Q1 - 1.5 * IQR)) | (sales_data[num_cols] > (Q3 + 1.5 * IQR))).any(axis=1)\n",
    "sales_data = sales_data.loc[filter]\n",
    "\n",
    "# Standardize data types\n",
    "# Example: Convert date columns to datetime\n",
    "date_cols = ['Order Date', 'Ship Date']  # Adjust column names as needed\n",
    "for col in date_cols:\n",
    "    sales_data[col] = pd.to_datetime(sales_data[col], errors='coerce')\n",
    "\n",
    "# Save cleaned data\n",
    "sales_data.to_csv('../data/processed/sales_data_cleaned.csv', index=False)\n",
    "print('Cleaned data saved successfully')\n"
   ]
  }
 ],
 "metadata": {
  "kernelspec": {
   "display_name": "Python 3",
   "language": "python",
   "name": "python3"
  },
  "language_info": {
   "codemirror_mode": {
    "name": "ipython",
    "version": 3
   },
   "file_extension": ".py",
   "mimetype": "text/x-python",
   "name": "python",
   "nbconvert_exporter": "python",
   "pygments_lexer": "ipython3",
   "version": "3.12.5"
  }
 },
 "nbformat": 4,
 "nbformat_minor": 5
}
