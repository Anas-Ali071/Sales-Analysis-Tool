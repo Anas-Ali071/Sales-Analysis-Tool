{
 "cells": [
  {
   "cell_type": "markdown",
   "metadata": {},
   "source": [
    "# Analysis and Visualization\n",
    "\n",
    "This notebook covers exploratory data analysis, correlation analysis, time series analysis, and advanced visualizations including multi-plot dashboards and interactive plots."
   ]
  },
  {
   "cell_type": "code",
   "execution_count": null,
   "metadata": {},
   "outputs": [],
   "source": [
    "# Import necessary libraries\n",
    "import pandas as pd\n",
    "import matplotlib.pyplot as plt\n",
    "import seaborn as sns\n",
    "import numpy as np\n",
    "\n",
    "# Load cleaned data\n",
    "try:\n",
    "    sales_data = pd.read_csv('../data/processed/sales_data_cleaned.csv')  # Adjust path and filename as needed\n",
    "    print('Cleaned data loaded successfully')\n",
    "except Exception as e:\n",
    "    print(f'Error loading cleaned data: {e}')\n",
    "\n",
    "# Exploratory Data Analysis\n",
    "print('Summary statistics:')\n",
    "print(sales_data.describe())\n",
    "\n",
    "# Correlation matrix for numeric columns only\n",
    "numeric_data = sales_data.select_dtypes(include=[np.number])\n",
    "corr = numeric_data.corr()\n",
    "plt.figure(figsize=(10,8))\n",
    "sns.heatmap(corr, annot=True, cmap='coolwarm')\n",
    "plt.title('Correlation Matrix')\n",
    "plt.show()\n",
    "\n",
    "# Time series analysis of sales trends\n",
    "sales_data['Order Date'] = pd.to_datetime(sales_data['Order Date'], errors='coerce')\n",
    "sales_data.set_index('Order Date', inplace=True)\n",
    "monthly_sales = sales_data['Sales'].resample('M').sum()\n",
    "plt.figure(figsize=(12,6))\n",
    "monthly_sales.plot()\n",
    "plt.title('Monthly Sales Trend')\n",
    "plt.xlabel('Month')\n",
    "plt.ylabel('Sales')\n",
    "plt.show()\n",
    "\n",
    "# Advanced Visualizations - Multi-plot dashboard example\n",
    "fig, axs = plt.subplots(2, 2, figsize=(15,10))\n",
    "\n",
    "# Sales by Category\n",
    "sns.barplot(x='Category', y='Sales', data=sales_data, ax=axs[0,0])\n",
    "axs[0,0].set_title('Sales by Category')\n",
    "\n",
    "# Profit by Region\n",
    "sns.barplot(x='Region', y='Profit', data=sales_data, ax=axs[0,1])\n",
    "axs[0,1].set_title('Profit by Region')\n",
    "\n",
    "# Sales by Segment\n",
    "sns.barplot(x='Segment', y='Sales', data=sales_data, ax=axs[1,0])\n",
    "axs[1,0].set_title('Sales by Segment')\n",
    "\n",
    "# Profit Margin Distribution (assuming Profit Margin is calculated)\n",
    "if 'Profit Margin' in sales_data.columns:\n",
    "    sns.histplot(sales_data['Profit Margin'], bins=30, ax=axs[1,1])\n",
    "    axs[1,1].set_title('Profit Margin Distribution')\n",
    "else:\n",
    "    # Calculate Profit Margin if not present\n",
    "    sales_data['Profit Margin'] = sales_data['Profit'] / sales_data['Sales']\n",
    "    sns.histplot(sales_data['Profit Margin'], bins=30, ax=axs[1,1])\n",
    "    axs[1,1].set_title('Profit Margin Distribution')\n",
    "\n",
    "plt.tight_layout()\n",
    "plt.show()\n"
   ]
  }
 ],
 "metadata": {
  "kernelspec": {
   "display_name": "Python 3",
   "language": "python",
   "name": "python3"
  },
  "language_info": {
   "name": "python",
   "version": "3.8"
  }
 },
 "nbformat": 4,
 "nbformat_minor": 5
}
