{
 "cells": [
  {
   "cell_type": "markdown",
   "metadata": {},
   "source": [
    "# Data Cleaning\n",
    "\n",
    "This notebook covers handling missing values, removing duplicates and outliers, and standardizing data types."
   ]
  },
  {
   "cell_type": "code",
   "execution_count": null,
   "metadata": {},
   "outputs": [],
   "source": [
    "# Import necessary libraries\n",
    "import pandas as pd\n",
    "import numpy as np\n",
    "\n",
    "# Load raw data\n",
    "try:\n",
    "    sales_data = pd.read_csv('../data/raw/Global_Superstore2.csv', encoding='latin1')  # Adjust path and filename as needed\n",
    "    print('Raw data loaded successfully')\n",
    "except Exception as e:\n",
    "    print(f'Error loading raw data: {e}')\n",
    "\n",
    "# Handle missing values\n",
    "# Example: Fill missing numerical values with median\n",
    "num_cols = sales_data.select_dtypes(include=[np.number]).columns\n",
    "for col in num_cols:\n",
    "    median_val = sales_data[col].median()\n",
    "    sales_data[col].fillna(median_val, inplace=True)\n",
    "\n",
    "# Remove duplicates\n",
    "sales_data.drop_duplicates(inplace=True)\n",
    "\n",
    "# Remove outliers using IQR method for numerical columns\n",
    "Q1 = sales_data[num_cols].quantile(0.25)\n",
    "Q3 = sales_data[num_cols].quantile(0.75)\n",
    "IQR = Q3 - Q1\n",
    "filter = ~((sales_data[num_cols] < (Q1 - 1.5 * IQR)) | (sales_data[num_cols] > (Q3 + 1.5 * IQR))).any(axis=1)\n",
    "sales_data = sales_data.loc[filter]\n",
    "\n",
    "# Standardize data types\n",
    "# Example: Convert date columns to datetime\n",
    "date_cols = ['Order Date', 'Ship Date']  # Adjust column names as needed\n",
    "for col in date_cols:\n",
    "    sales_data[col] = pd.to_datetime(sales_data[col], errors='coerce')\n",
    "\n",
    "# Save cleaned data\n",
    "sales_data.to_csv('../data/processed/sales_data_cleaned.csv', index=False)\n",
    "print('Cleaned data saved successfully')\n"
   ]
  }
 ],
 "metadata": {
  "kernelspec": {
   "display_name": "Python 3",
   "language": "python",
   "name": "python3"
  },
  "language_info": {
   "name": "python",
   "version": "3.8"
  }
 },
 "nbformat": 4,
 "nbformat_minor": 5
}
